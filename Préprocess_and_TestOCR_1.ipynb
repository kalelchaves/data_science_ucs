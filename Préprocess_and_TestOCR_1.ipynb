{
  "nbformat": 4,
  "nbformat_minor": 0,
  "metadata": {
    "colab": {
      "name": "Préprocess_and_TestOCR_1.ipynb",
      "provenance": [],
      "collapsed_sections": [],
      "include_colab_link": true
    },
    "kernelspec": {
      "name": "python3",
      "display_name": "Python 3"
    },
    "language_info": {
      "name": "python"
    }
  },
  "cells": [
    {
      "cell_type": "markdown",
      "metadata": {
        "id": "view-in-github",
        "colab_type": "text"
      },
      "source": [
        "<a href=\"https://colab.research.google.com/github/kalelchaves/data_science_ucs/blob/main/Pr%C3%A9process_and_TestOCR_1.ipynb\" target=\"_parent\"><img src=\"https://colab.research.google.com/assets/colab-badge.svg\" alt=\"Open In Colab\"/></a>"
      ]
    },
    {
      "cell_type": "markdown",
      "metadata": {
        "id": "sSVKNLaLGIw0"
      },
      "source": [
        "Fonte: https://nanonets.com/blog/ocr-with-tesseract/"
      ]
    },
    {
      "cell_type": "markdown",
      "metadata": {
        "id": "3RxK7Yz5sVrP"
      },
      "source": [
        "## Instalação do pytesseract OCR"
      ]
    },
    {
      "cell_type": "code",
      "metadata": {
        "colab": {
          "base_uri": "https://localhost:8080/"
        },
        "id": "5ng00pIW-SxY",
        "outputId": "ec02f876-ba59-49d7-b62f-ee29bbcdb011"
      },
      "source": [
        "!sudo apt install tesseract-ocr\n",
        "!pip install pytesseract"
      ],
      "execution_count": 1,
      "outputs": [
        {
          "output_type": "stream",
          "name": "stdout",
          "text": [
            "Reading package lists... Done\n",
            "Building dependency tree       \n",
            "Reading state information... Done\n",
            "tesseract-ocr is already the newest version (4.00~git2288-10f4998a-2).\n",
            "The following package was automatically installed and is no longer required:\n",
            "  libnvidia-common-460\n",
            "Use 'sudo apt autoremove' to remove it.\n",
            "0 upgraded, 0 newly installed, 0 to remove and 37 not upgraded.\n",
            "Requirement already satisfied: pytesseract in /usr/local/lib/python3.7/dist-packages (0.3.8)\n",
            "Requirement already satisfied: Pillow in /usr/local/lib/python3.7/dist-packages (from pytesseract) (7.1.2)\n"
          ]
        }
      ]
    },
    {
      "cell_type": "markdown",
      "metadata": {
        "id": "04lc1LeysbYP"
      },
      "source": [
        "## Montagem do drive para coleta dos dados"
      ]
    },
    {
      "cell_type": "code",
      "metadata": {
        "colab": {
          "base_uri": "https://localhost:8080/"
        },
        "id": "Sjkmk28I-V4n",
        "outputId": "3a0ba69e-61eb-46da-ed76-f69b06edf0d6"
      },
      "source": [
        "import cv2 \n",
        "import pytesseract\n",
        "import numpy as np\n",
        "from google.colab import drive\n",
        "from google.colab.patches import cv2_imshow\n",
        "\n",
        "drive.mount('/content/drive')"
      ],
      "execution_count": 2,
      "outputs": [
        {
          "output_type": "stream",
          "name": "stdout",
          "text": [
            "Drive already mounted at /content/drive; to attempt to forcibly remount, call drive.mount(\"/content/drive\", force_remount=True).\n"
          ]
        }
      ]
    },
    {
      "cell_type": "markdown",
      "metadata": {
        "id": "PCPxN5wAJO-h"
      },
      "source": [
        "### Extração do ZIP com as imagens"
      ]
    },
    {
      "cell_type": "code",
      "metadata": {
        "id": "QsqEdXlFisbe"
      },
      "source": [
        "import zipfile\n",
        "with zipfile.ZipFile(\"/content/drive/MyDrive/TCC/DATASET/BID Sample Dataset.zip\", 'r') as zip_ref:\n",
        "    zip_ref.extractall(\"/content\")"
      ],
      "execution_count": 25,
      "outputs": []
    },
    {
      "cell_type": "code",
      "metadata": {
        "id": "6OrGkqCdj55h"
      },
      "source": [
        "import glob\n",
        "import os\n",
        "\n",
        "images_list = []\n",
        "\n",
        "for root, subdirs, files in os.walk('/content/BID Sample Dataset/'):\n",
        "  if len(subdirs) > 0:\n",
        "    for dir in subdirs:\n",
        "      for file_aux in glob.glob(\"/content/BID Sample Dataset/\" + dir + \"/*in.jpg\"):\n",
        "        images_list.append(file_aux)\n"
      ],
      "execution_count": 125,
      "outputs": []
    },
    {
      "cell_type": "code",
      "metadata": {
        "id": "6rPpRmZWOF0x"
      },
      "source": [
        "def converter_escala_cinza(img):\n",
        "  img = cv2.cvtColor(img, cv2.COLOR_BGR2GRAY)\n",
        "  return img"
      ],
      "execution_count": 126,
      "outputs": []
    },
    {
      "cell_type": "code",
      "metadata": {
        "id": "-AmTnXJhitp0"
      },
      "source": [
        "img_list = []\n",
        "\n",
        "for fileName in images_list:\n",
        "  img_aux = cv2.imread(fileName)\n",
        "  img_aux = converter_escala_cinza(img_aux)\n",
        "\n",
        "  index = fileName.split(\"/\")\n",
        "  index = index[len(index) - 1]\n",
        "\n",
        "  img_list.append({\n",
        "      \"fileName\": index, \n",
        "      \"img\": img_aux, \n",
        "      \"img_rotated\": None, \n",
        "      \"img_string\": None,\n",
        "      \"path\": \"/\".join(fileName[:-1])\n",
        "      })\n",
        "  "
      ],
      "execution_count": 127,
      "outputs": []
    },
    {
      "cell_type": "markdown",
      "metadata": {
        "id": "JGfEmoVRKA0r"
      },
      "source": [
        "### Metodo para aplicação do algoritmo SKEW\n",
        "- Ver em https://www.pyimagesearch.com/2017/02/20/text-skew-correction-opencv-python/\n",
        "\n",
        "A tentativa de alinhamento da imagem ocorrerá no máximo 5 vezes, caso após a 5º tentativa o angulo de ajuste não ficar zerado a imagem original sera devolvida."
      ]
    },
    {
      "cell_type": "code",
      "metadata": {
        "id": "85bevAsLlFnN"
      },
      "source": [
        "import numpy as np\n",
        "import math\n",
        "from scipy import ndimage\n",
        "\n",
        "def align_image(img, fileName = None, showImage = False, count = 0):\n",
        "  img_before = img\n",
        "  key = cv2.waitKey(0)\n",
        "\n",
        "  # img_gray = cv2.cvtColor(img_before, cv2.COLOR_BGR2GRAY)\n",
        "  img_edges = cv2.Canny(img, 100, 100, apertureSize=3)\n",
        "  lines = cv2.HoughLinesP(img_edges, 1, math.pi / 180.0, 100, minLineLength=100, maxLineGap=5)\n",
        "  \n",
        "  angles = []\n",
        "\n",
        "  for [[x1, y1, x2, y2]] in lines:\n",
        "      # cv2.line(img_before, (x1, y1), (x2, y2), (255, 0, 0), 3)\n",
        "      angle = math.degrees(math.atan2(y2 - y1, x2 - x1))\n",
        "      angles.append(angle)\n",
        "\n",
        "  if showImage:\n",
        "    cv2_imshow(img_before)    \n",
        "  \n",
        "  key = cv2.waitKey(0)\n",
        "\n",
        "  median_angle = np.median(angles)\n",
        "  img_rotated = ndimage.rotate(img, median_angle)\n",
        "\n",
        "  if fileName:\n",
        "    print(fileName)\n",
        "    print(f\"Angle is {median_angle:.04f}\")\n",
        "\n",
        "  if count == 6:\n",
        "    return img, True\n",
        "\n",
        "  if median_angle != 0:\n",
        "    img_rotated, return_original_img = align_image(img_rotated, showImage=showImage, count = count + 1)\n",
        "    if return_original_img:\n",
        "      return img, return_original_img\n",
        "\n",
        "  return img_rotated, False  "
      ],
      "execution_count": 128,
      "outputs": []
    },
    {
      "cell_type": "code",
      "metadata": {
        "id": "0PSGEkSZnsDB"
      },
      "source": [
        "for obj in img_list:  \n",
        "  img, img_original = align_image(obj[\"img\"])\n",
        "  obj[\"img_rotated\"] = img\n",
        "\n",
        "# match = [i for i in img_list if i[\"fileName\"] == '00014722_in.jpg']\n",
        "# print(match)\n",
        "# img_aux, img_original = align_image(match[0][\"img\"])\n",
        "# cv2_imshow(img_aux)"
      ],
      "execution_count": 129,
      "outputs": []
    },
    {
      "cell_type": "markdown",
      "metadata": {
        "id": "971S0bjZMXYl"
      },
      "source": [
        "#### Analisar a partir deste ponto se necessário implementar \"*four point transform*\""
      ]
    },
    {
      "cell_type": "code",
      "metadata": {
        "id": "E37-0lTpMpjo"
      },
      "source": [
        "# TODO four point transform 00014722_in"
      ],
      "execution_count": 130,
      "outputs": []
    },
    {
      "cell_type": "markdown",
      "metadata": {
        "id": "54HcImUjKGy6"
      },
      "source": [
        "### Aplicação do pytesseract OCR"
      ]
    },
    {
      "cell_type": "code",
      "metadata": {
        "id": "ulPEsiTIBmf0"
      },
      "source": [
        "custom_config = r'--oem 3 --psm 6'\n",
        "\n",
        "for obj in img_list:  \n",
        "  obj[\"img_string\"] = pytesseract.image_to_string(obj[\"img_rotated\"], config=custom_config)"
      ],
      "execution_count": 131,
      "outputs": []
    },
    {
      "cell_type": "markdown",
      "metadata": {
        "id": "JFH96x6NKLnn"
      },
      "source": [
        "### Armazenando resultados para análise"
      ]
    },
    {
      "cell_type": "code",
      "metadata": {
        "id": "1qQex4x4bods"
      },
      "source": [
        "!rm -rf images_pre_process\n",
        "!mkdir images_pre_process\n",
        "\n",
        "path = \"/content/images_pre_process/\"\n",
        "\n",
        "for obj in img_list:\n",
        "  full_file_path = os.path.join(path, obj[\"fileName\"])\n",
        "  cv2.imwrite(full_file_path, obj[\"img_rotated\"])\n",
        "  cv2.waitKey(0)\n",
        "  with open(full_file_path + \".txt\", \"w\") as file:\n",
        "    file.write(obj[\"img_string\"])\n",
        "\n",
        "zip_name = \"/content/drive/MyDrive/TCC/DATASET/images_pre_process.zip\"\n",
        "with zipfile.ZipFile(zip_name, 'w') as zip_ref:\n",
        "    for obj in img_list:\n",
        "      full_file_path = os.path.join(path, obj[\"fileName\"])\n",
        "      zip_ref.write(full_file_path)\n",
        "      zip_ref.write(full_file_path + \".txt\")"
      ],
      "execution_count": 135,
      "outputs": []
    },
    {
      "cell_type": "code",
      "metadata": {
        "id": "nt3_lWyVRpTa"
      },
      "source": [
        ""
      ],
      "execution_count": 132,
      "outputs": []
    }
  ]
}