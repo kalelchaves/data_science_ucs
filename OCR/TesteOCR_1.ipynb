{
  "nbformat": 4,
  "nbformat_minor": 0,
  "metadata": {
    "colab": {
      "name": "TesteOCR_1.ipynb",
      "provenance": []
    },
    "kernelspec": {
      "name": "python3",
      "display_name": "Python 3"
    },
    "language_info": {
      "name": "python"
    }
  },
  "cells": [
    {
      "cell_type": "markdown",
      "metadata": {
        "id": "sSVKNLaLGIw0"
      },
      "source": [
        "Fonte: https://nanonets.com/blog/ocr-with-tesseract/"
      ]
    },
    {
      "cell_type": "code",
      "metadata": {
        "colab": {
          "base_uri": "https://localhost:8080/"
        },
        "id": "5ng00pIW-SxY",
        "outputId": "d7094065-3c39-49e9-d51d-661a74bacc56"
      },
      "source": [
        "!sudo apt install tesseract-ocr\n",
        "!pip install pytesseract"
      ],
      "execution_count": null,
      "outputs": [
        {
          "output_type": "stream",
          "name": "stdout",
          "text": [
            "Reading package lists... Done\n",
            "Building dependency tree       \n",
            "Reading state information... Done\n",
            "The following additional packages will be installed:\n",
            "  tesseract-ocr-eng tesseract-ocr-osd\n",
            "The following NEW packages will be installed:\n",
            "  tesseract-ocr tesseract-ocr-eng tesseract-ocr-osd\n",
            "0 upgraded, 3 newly installed, 0 to remove and 37 not upgraded.\n",
            "Need to get 4,795 kB of archives.\n",
            "After this operation, 15.8 MB of additional disk space will be used.\n",
            "Get:1 http://archive.ubuntu.com/ubuntu bionic/universe amd64 tesseract-ocr-eng all 4.00~git24-0e00fe6-1.2 [1,588 kB]\n",
            "Get:2 http://archive.ubuntu.com/ubuntu bionic/universe amd64 tesseract-ocr-osd all 4.00~git24-0e00fe6-1.2 [2,989 kB]\n",
            "Get:3 http://archive.ubuntu.com/ubuntu bionic/universe amd64 tesseract-ocr amd64 4.00~git2288-10f4998a-2 [218 kB]\n",
            "Fetched 4,795 kB in 0s (28.6 MB/s)\n",
            "debconf: unable to initialize frontend: Dialog\n",
            "debconf: (No usable dialog-like program is installed, so the dialog based frontend cannot be used. at /usr/share/perl5/Debconf/FrontEnd/Dialog.pm line 76, <> line 3.)\n",
            "debconf: falling back to frontend: Readline\n",
            "debconf: unable to initialize frontend: Readline\n",
            "debconf: (This frontend requires a controlling tty.)\n",
            "debconf: falling back to frontend: Teletype\n",
            "dpkg-preconfigure: unable to re-open stdin: \n",
            "Selecting previously unselected package tesseract-ocr-eng.\n",
            "(Reading database ... 155013 files and directories currently installed.)\n",
            "Preparing to unpack .../tesseract-ocr-eng_4.00~git24-0e00fe6-1.2_all.deb ...\n",
            "Unpacking tesseract-ocr-eng (4.00~git24-0e00fe6-1.2) ...\n",
            "Selecting previously unselected package tesseract-ocr-osd.\n",
            "Preparing to unpack .../tesseract-ocr-osd_4.00~git24-0e00fe6-1.2_all.deb ...\n",
            "Unpacking tesseract-ocr-osd (4.00~git24-0e00fe6-1.2) ...\n",
            "Selecting previously unselected package tesseract-ocr.\n",
            "Preparing to unpack .../tesseract-ocr_4.00~git2288-10f4998a-2_amd64.deb ...\n",
            "Unpacking tesseract-ocr (4.00~git2288-10f4998a-2) ...\n",
            "Setting up tesseract-ocr-osd (4.00~git24-0e00fe6-1.2) ...\n",
            "Setting up tesseract-ocr-eng (4.00~git24-0e00fe6-1.2) ...\n",
            "Setting up tesseract-ocr (4.00~git2288-10f4998a-2) ...\n",
            "Processing triggers for man-db (2.8.3-2ubuntu0.1) ...\n",
            "Requirement already satisfied: pytesseract in /usr/local/lib/python3.7/dist-packages (0.3.8)\n",
            "Requirement already satisfied: Pillow in /usr/local/lib/python3.7/dist-packages (from pytesseract) (7.1.2)\n"
          ]
        }
      ]
    },
    {
      "cell_type": "code",
      "metadata": {
        "colab": {
          "base_uri": "https://localhost:8080/",
          "height": 163
        },
        "id": "Sjkmk28I-V4n",
        "outputId": "ebade885-fab4-4c7e-f33f-6538873578de"
      },
      "source": [
        "import cv2 \n",
        "import pytesseract\n",
        "import numpy as np\n",
        "\n",
        "img = cv2.imread('/content/conta_luz.jpg')"
      ],
      "execution_count": null,
      "outputs": [
        {
          "output_type": "execute_result",
          "data": {
            "application/vnd.google.colaboratory.intrinsic+json": {
              "type": "string"
            },
            "text/plain": [
              "'==  DANIELA WIETHOLTER LOPES CONTA DE ENERGIA ELETRICA\\n=—— RNS DE FATIMA N* 00075 CASA\\n=——— LUCAS ARALUO O06\\n== PASSOFUNDO-RS\\n—\\n=—— CEP So0ros0 RESERVADO AD FISCID\\n— _—— —\\n= CDF ERE S987 TREG.AISS BI27 MSE CSSE\\n—\\n==) ME S110RT Or IT: 0870 of 1115 ME: 2037234\\n= Duta de ingrecadc TOT205 Data de Exists 1072018 Date de Apresettacha 27072005 Nota Fiscal Série Oniea W. 10.705.958\\nw\\neee\\naE DADOS DA UNIDADE CONSUMIDORA : = SCUNGWEROCONOSCO\\n70S OE FATAAA Se PS cane r\\n3 CPF iO Fasano 5038845-2 3\\nUCAS APACS ‘\\nPASEO FUNDS ~ Ao ee” faetanhe se Depa c anaes seaaneaCS ae Cacage pare Dente em Cant\\n\" INFORMACOES 04 FATURA | : VALORES FATURADOS: i\\nMés Faturamento Juthezois Pp Oescrigie Guartidede Taeite TUSD Velev TUE Tarifa TH Wafer TE Valor Tote (Ry\\n‘seca aera 0a Fbneegia attra 122 ih ONE) DL SeANS 0.8 og at if\\nhona? lead May ed lod zi\\nLartura: Mtual enor ar r Tarinacts Publtee 31.08\\nPrdxima Leitura tomes Pitts ate ge Gare ‘ $a\\nDas de Conta pe Perea ¢e, Is 3.3)\\nConsume Mako Deira S070 flare de Colete de Lino (64) E11 A227 of 2M\\nValor Consume Duicig saz I nity Le\\nD1 Pesidenctal - Nonmat 0 EMS CS. E25) ita.\\nTaras Base 220) Mosofiice\\nPater de Pontes -\\nPendas do Trane, aon.\\n|\\n}\\nMISTORICO DE CONSUMO | ‘\\neet | (022 !\\ncoves | i roy !\\neit”) a ae |\\nArts \"| MD 306\\nMeh | Bur\\nFewrs”| MM acy |\\nBANDEIRAS TARIFARIAS | i\\nRance: Pex\\nHERE evan ents oe\\n‘WERMEL HA BVM OTa085 ? _ am ee es ——— a —\\n_ — | DATA DE VEMCIMENTO TOTAL A PAGAR\\n|___comronentesoatanra | EE ee en rAesl\\nTrectersisto eee 21/08/2015 R$1.093,64\\n| Demian ds PRO Bie - i —— a —l\\nEres << = tab 24 4s\\nBe ea |\\nfOMS Tote S201 9S\\nSEN TE es = = = = \" : - é\\nae - 5\\n>\\nfest INFORMAGOES TEGMICAS z ci te INDICADORES DE CONTINUIDADE —_\\nTipe de Medicio Namerodo Medidor = Leitura Amtorice Leitura Atual = Constante Mult. Tetal Medide |] Cargunto trues Wenticecte:\\nEMERG ATA BT a2 27272 aps 1.00 1422 Rite |] Santa hte canes\\nMero Tern Arcad\\n: tee sar 70.18 739 ono |\\nrm 37 aa We On\\nPet ad 26 > om\\noom\\n= th RPE So He Sintrrst Oe. Devt ee A ATS\\nE = ATENCAD =\\nAVIS PREWO DE SUSFENSADG 05 FORNECIMENTO o parte as tas Rar ay Cs. | NEFORMASIONS ATRASO NO. PAGAMENTO OA CONTA Com VENC MENTO: EM A\\nee eM ral ee ok et eS ea Be ee Bas a eee EF ie re lhe en ee eo reece tocar | e\\nBl teguarizads Cy Toe\\n;\\n1 EAS RSENS Na EES ot ae SS Si Se sae < A\\nti] SEAJUSTE TARBARIO «A ATEEL ATRAVES DA RESOUUGAD it teeenoTS HOUCLOGOU © REAAIETE TARIFARIO WMUAL DA RGE EM UMA MELLICAS METNA DE 2 TER 05 CONEAMDOMES OO GRUPD B\\n§ PERCERERIG Lie REDUCES MERA DE 4 2r8 EOS OO GIP D A GUE REDUCLS bEiMA DE 1DoN }\\naE ES Free EEE ee ee ree EE EES ESE SESS TERE Sescstsasseasrssse eet ees\\nidentificador de Conta Data cde Vorcimento Total a Pagar\\n___ Pn Ronaes TANTS 98 ips2018 __Rat003, 64 se\\n4\\nLa cen PFA Engi 83640000010-2 93640089050-0 38: -6 15450700939-8 :\\n|\\ni, i\\n\\x0c'"
            ]
          },
          "metadata": {},
          "execution_count": 22
        }
      ]
    },
    {
      "cell_type": "code",
      "metadata": {
        "id": "MO_6RjaSAA_J"
      },
      "source": [
        "# get grayscale image\n",
        "def get_grayscale(image):\n",
        "    return cv2.cvtColor(image, cv2.COLOR_BGR2GRAY)\n",
        "\n",
        "# noise removal\n",
        "def remove_noise(image):\n",
        "    return cv2.medianBlur(image,5)\n",
        " \n",
        "#thresholding\n",
        "def thresholding(image):\n",
        "    return cv2.threshold(image, 0, 255, cv2.THRESH_BINARY + cv2.THRESH_OTSU)[1]\n",
        "\n",
        "#dilation\n",
        "def dilate(image):\n",
        "    kernel = np.ones((5,5),np.uint8)\n",
        "    return cv2.dilate(image, kernel, iterations = 1)\n",
        "    \n",
        "#erosion\n",
        "def erode(image):\n",
        "    kernel = np.ones((5,5),np.uint8)\n",
        "    return cv2.erode(image, kernel, iterations = 1)\n",
        "\n",
        "#opening - erosion followed by dilation\n",
        "def opening(image):\n",
        "    kernel = np.ones((5,5),np.uint8)\n",
        "    return cv2.morphologyEx(image, cv2.MORPH_OPEN, kernel)\n",
        "\n",
        "#canny edge detection\n",
        "def canny(image):\n",
        "    return cv2.Canny(image, 100, 200)\n",
        "    \n",
        "#template matching\n",
        "def match_template(image, template):\n",
        "    return cv2.matchTemplate(image, template, cv2.TM_CCOEFF_NORMED)"
      ],
      "execution_count": null,
      "outputs": []
    },
    {
      "cell_type": "code",
      "metadata": {
        "id": "wRTy15UvBh9c"
      },
      "source": [
        "gray = get_grayscale(img)\n",
        "thresh = thresholding(gray)\n",
        "opening = opening(gray)\n",
        "canny = canny(gray)"
      ],
      "execution_count": null,
      "outputs": []
    },
    {
      "cell_type": "code",
      "metadata": {
        "colab": {
          "base_uri": "https://localhost:8080/"
        },
        "id": "ulPEsiTIBmf0",
        "outputId": "a9d55023-c047-43ce-dd67-a7597863f2fc"
      },
      "source": [
        "# Adding custom options\n",
        "custom_config = r'--oem 3 --psm 6'\n",
        "img_str = pytesseract.image_to_string(img, config=custom_config)\n",
        "\n",
        "print(img_str)"
      ],
      "execution_count": null,
      "outputs": [
        {
          "output_type": "stream",
          "name": "stdout",
          "text": [
            "==  DANIELA WIETHOLTER LOPES CONTA DE ENERGIA ELETRICA\n",
            "=—— RNS DE FATIMA N* 00075 CASA\n",
            "=——— LUCAS ARALUO O06\n",
            "== PASSOFUNDO-RS\n",
            "—\n",
            "=—— CEP So0ros0 RESERVADO AD FISCID\n",
            "— _—— —\n",
            "= CDF ERE S987 TREG.AISS BI27 MSE CSSE\n",
            "—\n",
            "==) ME S110RT Or IT: 0870 of 1115 ME: 2037234\n",
            "= Duta de ingrecadc TOT205 Data de Exists 1072018 Date de Apresettacha 27072005 Nota Fiscal Série Oniea W. 10.705.958\n",
            "w\n",
            "eee\n",
            "aE DADOS DA UNIDADE CONSUMIDORA : = SCUNGWEROCONOSCO\n",
            "70S OE FATAAA Se PS cane r\n",
            "3 CPF iO Fasano 5038845-2 3\n",
            "UCAS APACS ‘\n",
            "PASEO FUNDS ~ Ao ee” faetanhe se Depa c anaes seaaneaCS ae Cacage pare Dente em Cant\n",
            "\" INFORMACOES 04 FATURA | : VALORES FATURADOS: i\n",
            "Més Faturamento Juthezois Pp Oescrigie Guartidede Taeite TUSD Velev TUE Tarifa TH Wafer TE Valor Tote (Ry\n",
            "‘seca aera 0a Fbneegia attra 122 ih ONE) DL SeANS 0.8 og at if\n",
            "hona? lead May ed lod zi\n",
            "Lartura: Mtual enor ar r Tarinacts Publtee 31.08\n",
            "Prdxima Leitura tomes Pitts ate ge Gare ‘ $a\n",
            "Das de Conta pe Perea ¢e, Is 3.3)\n",
            "Consume Mako Deira S070 flare de Colete de Lino (64) E11 A227 of 2M\n",
            "Valor Consume Duicig saz I nity Le\n",
            "D1 Pesidenctal - Nonmat 0 EMS CS. E25) ita.\n",
            "Taras Base 220) Mosofiice\n",
            "Pater de Pontes -\n",
            "Pendas do Trane, aon.\n",
            "|\n",
            "}\n",
            "MISTORICO DE CONSUMO | ‘\n",
            "eet | (022 !\n",
            "coves | i roy !\n",
            "eit”) a ae |\n",
            "Arts \"| MD 306\n",
            "Meh | Bur\n",
            "Fewrs”| MM acy |\n",
            "BANDEIRAS TARIFARIAS | i\n",
            "Rance: Pex\n",
            "HERE evan ents oe\n",
            "‘WERMEL HA BVM OTa085 ? _ am ee es ——— a —\n",
            "_ — | DATA DE VEMCIMENTO TOTAL A PAGAR\n",
            "|___comronentesoatanra | EE ee en rAesl\n",
            "Trectersisto eee 21/08/2015 R$1.093,64\n",
            "| Demian ds PRO Bie - i —— a —l\n",
            "Eres << = tab 24 4s\n",
            "Be ea |\n",
            "fOMS Tote S201 9S\n",
            "SEN TE es = = = = \" : - é\n",
            "ae - 5\n",
            ">\n",
            "fest INFORMAGOES TEGMICAS z ci te INDICADORES DE CONTINUIDADE —_\n",
            "Tipe de Medicio Namerodo Medidor = Leitura Amtorice Leitura Atual = Constante Mult. Tetal Medide |] Cargunto trues Wenticecte:\n",
            "EMERG ATA BT a2 27272 aps 1.00 1422 Rite |] Santa hte canes\n",
            "Mero Tern Arcad\n",
            ": tee sar 70.18 739 ono |\n",
            "rm 37 aa We On\n",
            "Pet ad 26 > om\n",
            "oom\n",
            "= th RPE So He Sintrrst Oe. Devt ee A ATS\n",
            "E = ATENCAD =\n",
            "AVIS PREWO DE SUSFENSADG 05 FORNECIMENTO o parte as tas Rar ay Cs. | NEFORMASIONS ATRASO NO. PAGAMENTO OA CONTA Com VENC MENTO: EM A\n",
            "ee eM ral ee ok et eS ea Be ee Bas a eee EF ie re lhe en ee eo reece tocar | e\n",
            "Bl teguarizads Cy Toe\n",
            ";\n",
            "1 EAS RSENS Na EES ot ae SS Si Se sae < A\n",
            "ti] SEAJUSTE TARBARIO «A ATEEL ATRAVES DA RESOUUGAD it teeenoTS HOUCLOGOU © REAAIETE TARIFARIO WMUAL DA RGE EM UMA MELLICAS METNA DE 2 TER 05 CONEAMDOMES OO GRUPD B\n",
            "§ PERCERERIG Lie REDUCES MERA DE 4 2r8 EOS OO GIP D A GUE REDUCLS bEiMA DE 1DoN }\n",
            "aE ES Free EEE ee ee ree EE EES ESE SESS TERE Sescstsasseasrssse eet ees\n",
            "identificador de Conta Data cde Vorcimento Total a Pagar\n",
            "___ Pn Ronaes TANTS 98 ips2018 __Rat003, 64 se\n",
            "4\n",
            "La cen PFA Engi 83640000010-2 93640089050-0 38: -6 15450700939-8 :\n",
            "|\n",
            "i, i\n",
            "\f\n"
          ]
        }
      ]
    },
    {
      "cell_type": "code",
      "metadata": {
        "id": "lTnBLtmfBt-I"
      },
      "source": [
        ""
      ],
      "execution_count": null,
      "outputs": []
    }
  ]
}